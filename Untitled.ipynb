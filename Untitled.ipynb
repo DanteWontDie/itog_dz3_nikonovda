{
 "cells": [
  {
   "cell_type": "markdown",
   "id": "7131a0bf-73e9-47fc-8da1-91b00d8cc37f",
   "metadata": {},
   "source": [
    "Итоговое задание по 3-му модулю.\n",
    "\n",
    "Часть 1. Разработка инструмента для анализа киберугроз с использованием VirusTotal API \n",
    "Исходные данные:\n",
    " Архив ZIP с файлами для анализа. Файл protected_archive.zip.\n",
    " Пароль: netology\n",
    " Этапы выполнения задания (часть 1)\n",
    " Этап 1. Распаковка архива. Используя Python, распакуйте предоставленный архив и извлеките файлы.\n",
    " Этап 2. Анализ файлов через VirusTotal API. Отправьте файлы на анализ, используя ваш персональный API-ключ VirusTotal.\n",
    " Этап 3. Обработка результатов сканирования. Проанализируйте ответы от VirusTotal, собирая данные о детектировании угроз антивирусами.\n",
    " Этап 4. Подготовка отчёта. Составьте отчёт со статистикой результатов сканирования. Включите в отчёт код скрипта и результат его вывода в виде скриншота (JPG, PNG). Приведите список антивирусов, которые обнаружили угрозы, в формате: Detected, ALYac, Kaspersky. Сравните результаты с заданным списком антивирусов и песочниц. Укажите, какие из указанных антивирусов (Fortinet, McAfee, Yandex, Sophos) детектировали угрозу, а какие нет.\n",
    " Дополнительные задачи:\n",
    " - Еслидоступен отчёт VirusTotal Sandbox о поведении вредоноса, проанализируйте его и включите в свой отчёт ключевые моменты из него.\n",
    " - Выведитесписок доменов и IP-адресов, с которыми вредонос общается, (для блокировки) и описание поведения (Behavior) от VirusTotal Sandbox, если оно  доступно."
   ]
  },
  {
   "cell_type": "code",
   "execution_count": 117,
   "id": "acdf08b1-9c7f-4200-96a1-e529857f0b89",
   "metadata": {},
   "outputs": [
    {
     "name": "stdout",
     "output_type": "stream",
     "text": [
      "Архив отправлен на Virus Total!\n",
      "ID сканирования: NjEyYjU3ZTJhZmU3MDY1ZWJlOTIxMzM3MTcwZGY3ZDQ6MTc0MDgwNDE0MQ==\n",
      "Результаты анализа:\n",
      "Вердикт вредоносный - 23 антивирус\n",
      "Вердикт необнаружено - 38 антивирус\n",
      "Файл опасен!\n",
      "------------------------------\n"
     ]
    }
   ],
   "source": [
    "import requests\n",
    "\n",
    "API_KEY = \"0d97c91facc32d469c4b0499baaca1cc456dd2f872ab73c8d91eaf1961ada2a2\"\n",
    "FILE_NAME = \"protected_archive.zip\"\n",
    "PASSWD = \"netology\"\n",
    "\n",
    "def upload_archive():\n",
    "    url = \"https://www.virustotal.com/api/v3/files\"\n",
    "    files = { \"file\": (FILE_NAME, open(FILE_NAME, \"rb\"), \"application/x-zip-compressed\") }\n",
    "    payload = { \"password\": PASSWD }\n",
    "    headers = {\n",
    "        \"accept\": \"application/json\",\n",
    "        \"x-apikey\": API_KEY\n",
    "    }\n",
    "\n",
    "    response = requests.post(url, data=payload, files=files, headers=headers)\n",
    "\n",
    "    if response.status_code == 200:\n",
    "        try:\n",
    "            json_response = response.json()\n",
    "            scan_id = json_response['data']['id']\n",
    "            print(\"Архив отправлен на Virus Total!\")\n",
    "            print(f\"ID сканирования: {scan_id}\")\n",
    "            return scan_id\n",
    "        except(KeyError, ValueError):\n",
    "            print (f\"Ошибка отправки файла {response.status_code} {respresponse.text}\")\n",
    "    else:\n",
    "        print(f\"Ошибка при получении ответа: {response.status_code} - {response.text}\")\n",
    "        return None\n",
    "\n",
    "\n",
    "\n",
    "def get_analysis_archive(scan_id):\n",
    "    scan_id = scan_id\n",
    "    url = f\"https://www.virustotal.com/api/v3/analyses/{scan_id}\"\n",
    "    headers = {\n",
    "        \"accept\": \"application/json\",\n",
    "        \"x-apikey\": API_KEY\n",
    "    }\n",
    "    response = requests.get(url, headers=headers)\n",
    "    if response.status_code == 200:\n",
    "        try:\n",
    "            json_response = response.json()\n",
    "            malicious_result = json_response['data']['attributes']['stats']['malicious']\n",
    "            undetected_result = json_response['data']['attributes']['stats']['undetected']\n",
    "            print(\"Результаты анализа:\")\n",
    "            print(f\"Вердикт вредоносный - {malicious_result} антивирус\")\n",
    "            print(f\"Вердикт необнаружено - {undetected_result} антивирус\")\n",
    "            if malicious_result >= 2:\n",
    "                print(\"Файл опасен!\")\n",
    "            else:\n",
    "               print(\"Файл не представляет угрозы\") \n",
    "        except (KeyError, ValueError):\n",
    "            print(f\"Ошибка при разборе ответа JSON: {response.text}\")\n",
    "            return None\n",
    "    else:\n",
    "        print(f\"Ошибка при получении результатов анализа: {response.status_code} - {response.text}\")\n",
    "        return None\n",
    "\n",
    "def main():\n",
    "    scan_id = upload_archive()\n",
    "    get_analysis_archive(scan_id)\n",
    "    print(\"-\"*30)\n",
    "    \n",
    "\n",
    "if __name__ == \"__main__\":\n",
    "    main()\n"
   ]
  }
 ],
 "metadata": {
  "kernelspec": {
   "display_name": "Python [conda env:base] *",
   "language": "python",
   "name": "conda-base-py"
  },
  "language_info": {
   "codemirror_mode": {
    "name": "ipython",
    "version": 3
   },
   "file_extension": ".py",
   "mimetype": "text/x-python",
   "name": "python",
   "nbconvert_exporter": "python",
   "pygments_lexer": "ipython3",
   "version": "3.12.7"
  }
 },
 "nbformat": 4,
 "nbformat_minor": 5
}
